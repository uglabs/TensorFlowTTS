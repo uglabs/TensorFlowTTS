{
 "cells": [
  {
   "cell_type": "code",
   "execution_count": 1,
   "metadata": {},
   "outputs": [],
   "source": [
    "import os\n",
    "import random\n",
    "import shutil\n",
    "import sys\n",
    "\n",
    "libri_path = \"../../../LibriTTS\" # absolute path to TensorFlowTTS.\n",
    "dataset_path = \"../../../libritts\" # Change to your paths. This is a output of re-format dataset.\n",
    "subset = \"train-clean-100\""
   ]
  },
  {
   "cell_type": "code",
   "execution_count": 2,
   "metadata": {},
   "outputs": [],
   "source": [
    "with open(os.path.join(libri_path, \"SPEAKERS.txt\")) as f:\n",
    "    data = f.readlines()\n",
    "    \n",
    "dataset_info = {}\n",
    "max_speakers = 100  # Max number of speakers to train on\n",
    "min_len = 10  # Min len of speaker narration time\n",
    "max_file_len = 15  # max audio file lenght\n",
    "min_file_len = 2  # min audio file lenght"
   ]
  },
  {
   "cell_type": "code",
   "execution_count": 3,
   "metadata": {},
   "outputs": [],
   "source": [
    "possible_dataset = [i.split(\"|\") for i in data[12:] if i.split(\"|\")[2].strip() == subset and float(i.split(\"|\")[3].strip()) >= min_len]\n"
   ]
  },
  {
   "cell_type": "code",
   "execution_count": 4,
   "metadata": {},
   "outputs": [],
   "source": [
    "ids = [i[0].strip() for i in possible_dataset]\n"
   ]
  },
  {
   "cell_type": "code",
   "execution_count": 5,
   "metadata": {},
   "outputs": [],
   "source": [
    "import soundfile as sf"
   ]
  },
  {
   "cell_type": "code",
   "execution_count": 6,
   "metadata": {},
   "outputs": [],
   "source": [
    "possible_map = {}\n",
    "subset_path = os.path.join(libri_path, subset)\n",
    "for i in os.listdir(subset_path):\n",
    "    if i in ids:\n",
    "        id_path = os.path.join(subset_path, i)\n",
    "        id_dur = 0\n",
    "        id_included = []\n",
    "        \n",
    "        for k in os.listdir(id_path):\n",
    "            for j in os.listdir(os.path.join(id_path, k)):\n",
    "                if \".wav\" in j:\n",
    "                    f_path = os.path.join(id_path, k, j)\n",
    "                    sf_file =  sf.SoundFile(f_path)\n",
    "                    dur = len(sf_file) / sf_file.samplerate\n",
    "                    if max_file_len < dur or dur < min_file_len:\n",
    "                        continue\n",
    "                    else:\n",
    "                        id_included.append(f_path)\n",
    "                        id_dur += dur\n",
    "        possible_map[i] = {\"dur\": id_dur, \"included\": id_included}\n"
   ]
  },
  {
   "cell_type": "code",
   "execution_count": 7,
   "metadata": {},
   "outputs": [
    {
     "data": {
      "text/plain": [
       "10"
      ]
     },
     "execution_count": 7,
     "metadata": {},
     "output_type": "execute_result"
    }
   ],
   "source": [
    "min_len"
   ]
  },
  {
   "cell_type": "code",
   "execution_count": 8,
   "metadata": {},
   "outputs": [],
   "source": [
    "poss_speakers = {k: v[\"included\"] for k, v in possible_map.items() if v[\"dur\"]/60 >= min_len}"
   ]
  },
  {
   "cell_type": "code",
   "execution_count": 9,
   "metadata": {},
   "outputs": [
    {
     "data": {
      "text/plain": [
       "dict_keys(['4406', '2289', '831', '5022', '7511', '7059', '4195', '3240', '3982', '8630', '196', '4680', '2416', '4397', '7800', '6209', '6385', '2836', '8838', '1088', '5867', '4267', '8088', '3830', '7178', '2843', '4297', '460', '78', '1970', '4137', '3526', '669', '4018', '8123', '6019', '1098', '412', '1502', '83', '1116', '8324', '5778', '7190', '5393', '8468', '4362', '3486', '6078', '1743', '4051', '7517', '5163', '7367', '4160', '7067', '6836', '6437', '40', '3259', '6064', '3664', '4788', '8312', '405', '4214', '1246', '3857', '2136', '2092', '8051', '5750', '1841', '374', '8098', '6272', '6818', '8238', '2196', '6415', '8419', '696', '1263', '6367', '446', '200', '8108', '5322', '887', '6531', '3879', '6147', '7447', '1553', '2952', '3242', '8580', '5561', '6529', '1624', '8770', '5339', '8747', '87', '6476', '6081', '250', '7505', '6454', '2911', '2893', '7794', '7402', '3235', '7078', '1355', '4830', '8465', '7302'])"
      ]
     },
     "execution_count": 9,
     "metadata": {},
     "output_type": "execute_result"
    }
   ],
   "source": [
    "poss_speakers.keys()"
   ]
  },
  {
   "cell_type": "code",
   "execution_count": 10,
   "metadata": {},
   "outputs": [],
   "source": [
    "to_move = list(poss_speakers.keys())\n",
    "random.shuffle(to_move)\n",
    "to_move = to_move[:max_speakers]"
   ]
  },
  {
   "cell_type": "code",
   "execution_count": 11,
   "metadata": {},
   "outputs": [],
   "source": [
    "for sp_id, v in poss_speakers.items():\n",
    "    if sp_id in to_move:\n",
    "        for j in v:\n",
    "            f_name = j.split(os.path.sep)[-1]\n",
    "            text_f_name = f_name.split(\".wav\")[0] + \".txt\"\n",
    "            os.makedirs(os.path.join(dataset_path, sp_id), exist_ok=True)\n",
    "            shutil.copy(j, os.path.join(dataset_path, sp_id, f_name))\n",
    "            shutil.copy(j.replace(\".wav\", \".normalized.txt\"), os.path.join(dataset_path, sp_id, text_f_name))"
   ]
  },
  {
   "cell_type": "code",
   "execution_count": 12,
   "metadata": {},
   "outputs": [
    {
     "data": {
      "text/plain": [
       "['1088',\n",
       " '1098',\n",
       " '1116',\n",
       " '1246',\n",
       " '1263',\n",
       " '1355',\n",
       " '1502',\n",
       " '1553',\n",
       " '1624',\n",
       " '1743',\n",
       " '1841',\n",
       " '196',\n",
       " '1970',\n",
       " '200',\n",
       " '2136',\n",
       " '2196',\n",
       " '2289',\n",
       " '250',\n",
       " '2843',\n",
       " '2893',\n",
       " '2911',\n",
       " '2952',\n",
       " '3235',\n",
       " '3240',\n",
       " '3242',\n",
       " '3259',\n",
       " '3486',\n",
       " '3526',\n",
       " '3664',\n",
       " '374',\n",
       " '3830',\n",
       " '3857',\n",
       " '3982',\n",
       " '40',\n",
       " '405',\n",
       " '4051',\n",
       " '4137',\n",
       " '4160',\n",
       " '4214',\n",
       " '4267',\n",
       " '4297',\n",
       " '4362',\n",
       " '4397',\n",
       " '4406',\n",
       " '4680',\n",
       " '4830',\n",
       " '5022',\n",
       " '5163',\n",
       " '5322',\n",
       " '5339',\n",
       " '5393',\n",
       " '5561',\n",
       " '5750',\n",
       " '5867',\n",
       " '6019',\n",
       " '6064',\n",
       " '6078',\n",
       " '6081',\n",
       " '6147',\n",
       " '6272',\n",
       " '6385',\n",
       " '6415',\n",
       " '6437',\n",
       " '6454',\n",
       " '6476',\n",
       " '6529',\n",
       " '6531',\n",
       " '669',\n",
       " '6818',\n",
       " '6836',\n",
       " '7059',\n",
       " '7067',\n",
       " '7078',\n",
       " '7178',\n",
       " '7190',\n",
       " '7302',\n",
       " '7367',\n",
       " '7402',\n",
       " '7505',\n",
       " '7511',\n",
       " '78',\n",
       " '7800',\n",
       " '8051',\n",
       " '8088',\n",
       " '8098',\n",
       " '8108',\n",
       " '8123',\n",
       " '83',\n",
       " '831',\n",
       " '8312',\n",
       " '8324',\n",
       " '8419',\n",
       " '8465',\n",
       " '8468',\n",
       " '8580',\n",
       " '8630',\n",
       " '87',\n",
       " '8747',\n",
       " '8770',\n",
       " '8838']"
      ]
     },
     "execution_count": 12,
     "metadata": {},
     "output_type": "execute_result"
    }
   ],
   "source": [
    "sorted(to_move)"
   ]
  },
  {
   "cell_type": "code",
   "execution_count": null,
   "metadata": {},
   "outputs": [],
   "source": []
  },
  {
   "cell_type": "code",
   "execution_count": 13,
   "metadata": {},
   "outputs": [
    {
     "name": "stdout",
     "output_type": "stream",
     "text": [
      "LICENSE\t\t\tdocker-compose.yml  preprocess\t       tensorflow_tts\n",
      "LibriTTS\t\tdockerfile\t    setup.cfg\t       test\n",
      "README.md\t\tlibritts\t    setup.py\t       ttsexamples\n",
      "TensorFlowTTS.egg-info\tnotebooks\t    tacotron_libritts\n"
     ]
    }
   ],
   "source": [
    "!ls ../../../"
   ]
  },
  {
   "cell_type": "code",
   "execution_count": null,
   "metadata": {},
   "outputs": [],
   "source": []
  }
 ],
 "metadata": {
  "environment": {
   "name": "common-cu110.m79",
   "type": "gcloud",
   "uri": "gcr.io/deeplearning-platform-release/base-cu110:m79"
  },
  "interpreter": {
   "hash": "32b04b68daf6557b9f384f966e7a569abebaf11b1b9d9fed65dfac2e96de1d9f"
  },
  "kernelspec": {
   "display_name": "Python 3",
   "language": "python",
   "name": "python3"
  },
  "language_info": {
   "codemirror_mode": {
    "name": "ipython",
    "version": 3
   },
   "file_extension": ".py",
   "mimetype": "text/x-python",
   "name": "python",
   "nbconvert_exporter": "python",
   "pygments_lexer": "ipython3",
   "version": "3.7.10"
  }
 },
 "nbformat": 4,
 "nbformat_minor": 4
}
