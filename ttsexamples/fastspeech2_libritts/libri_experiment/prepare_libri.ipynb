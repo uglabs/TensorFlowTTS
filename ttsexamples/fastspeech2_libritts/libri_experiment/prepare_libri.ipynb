{
 "cells": [
  {
   "cell_type": "code",
   "execution_count": 27,
   "metadata": {},
   "outputs": [
    {
     "name": "stdout",
     "output_type": "stream",
     "text": [
      "LibriTTS\n"
     ]
    }
   ],
   "source": [
    "!ls ../../../../data/dev-clean"
   ]
  },
  {
   "cell_type": "code",
   "execution_count": 28,
   "metadata": {},
   "outputs": [],
   "source": [
    "import os\n",
    "import random\n",
    "import shutil\n",
    "import sys\n",
    "\n",
    "libri_path = \"../../../LibriTTS\" # absolute path to TensorFlowTTS.\n",
    "dataset_path = \"../../../libritts\" # Change to your paths. This is a output of re-format dataset.\n",
    "subset = \"train-clean-100\""
   ]
  },
  {
   "cell_type": "code",
   "execution_count": 29,
   "metadata": {},
   "outputs": [],
   "source": [
    "with open(os.path.join(libri_path, \"SPEAKERS.txt\")) as f:\n",
    "    data = f.readlines()\n",
    "    \n",
    "dataset_info = {}\n",
    "max_speakers = 20  # Max number of speakers to train on\n",
    "min_len = 3  # Min len of speaker narration time\n",
    "max_file_len = 11  # max audio file lenght\n",
    "min_file_len = 2  # min audio file lenght"
   ]
  },
  {
   "cell_type": "code",
   "execution_count": 30,
   "metadata": {},
   "outputs": [],
   "source": [
    "possible_dataset = [i.split(\"|\") for i in data[12:] if i.split(\"|\")[2].strip() == subset and float(i.split(\"|\")[3].strip()) >= min_len]\n"
   ]
  },
  {
   "cell_type": "code",
   "execution_count": 31,
   "metadata": {},
   "outputs": [],
   "source": [
    "ids = [i[0].strip() for i in possible_dataset]\n"
   ]
  },
  {
   "cell_type": "code",
   "execution_count": 32,
   "metadata": {},
   "outputs": [],
   "source": [
    "import soundfile as sf"
   ]
  },
  {
   "cell_type": "code",
   "execution_count": 33,
   "metadata": {},
   "outputs": [],
   "source": [
    "possible_map = {}\n",
    "subset_path = os.path.join(libri_path, subset)\n",
    "for i in os.listdir(subset_path):\n",
    "    if i in ids:\n",
    "        id_path = os.path.join(subset_path, i)\n",
    "        id_dur = 0\n",
    "        id_included = []\n",
    "        \n",
    "        for k in os.listdir(id_path):\n",
    "            for j in os.listdir(os.path.join(id_path, k)):\n",
    "                if \".wav\" in j:\n",
    "                    f_path = os.path.join(id_path, k, j)\n",
    "                    sf_file =  sf.SoundFile(f_path)\n",
    "                    dur = len(sf_file) / sf_file.samplerate\n",
    "                    if max_file_len < dur or dur < min_file_len:\n",
    "                        continue\n",
    "                    else:\n",
    "                        id_included.append(f_path)\n",
    "                        id_dur += dur\n",
    "        possible_map[i] = {\"dur\": id_dur, \"included\": id_included}\n"
   ]
  },
  {
   "cell_type": "code",
   "execution_count": 34,
   "metadata": {},
   "outputs": [
    {
     "data": {
      "text/plain": [
       "3"
      ]
     },
     "execution_count": 34,
     "metadata": {},
     "output_type": "execute_result"
    }
   ],
   "source": [
    "min_len"
   ]
  },
  {
   "cell_type": "code",
   "execution_count": 35,
   "metadata": {},
   "outputs": [],
   "source": [
    "poss_speakers = {k: v[\"included\"] for k, v in possible_map.items() if v[\"dur\"]/60 >= min_len}"
   ]
  },
  {
   "cell_type": "code",
   "execution_count": 36,
   "metadata": {},
   "outputs": [
    {
     "data": {
      "text/plain": [
       "dict_keys(['460', '1246', '8419', '7402', '1578', '5703', '250', '8975', '2836', '4406', '6880', '7780', '412', '7302', '2989', '7226', '5022', '6019', '7505', '3983', '3259', '4640', '8123', '6209', '8051', '3240', '1069', '3112', '1553', '831', '4340', '1898', '2436', '7113', '60', '1963', '7447', '8312', '3436', '6272', '5514', '6147', '2817', '8095', '7800', '587', '5778', '40', '6818', '669', '5750', '5808', '6848', '4362', '7859', '4680', '8324', '2691', '4788', '1926', '4267', '7059', '201', '4397', '3526', '8226', '6836', '696', '911', '3607', '4051', '3168', '6367', '7278', '5339', '8747', '3830', '1867', '2518', '4160', '6529', '7178', '2092', '8063', '6437', '1183', '27', '1502', '3664', '5456', '8014', '2196', '7078', '3242', '2391', '4214', '1116', '405', '4297', '2893', '4195', '87', '254', '7511', '2416', '8797', '2002', '2136', '3857', '6081', '5789', '730', '4018', '7264', '8630', '118', '196', '5867', '6385', '2182', '8098', '302', '6563', '7067', '1355', '6531', '1737', '839', '374', '8465', '233', '1263', '1098', '3440', '298', '8838', '4859', '7190', '5322', '5652', '909', '3374', '4813', '5561', '887', '1841', '2843', '4830', '3879', '6181', '78', '6476', '4137', '1970', '32', '6000', '446', '5678', '6064', '6454', '2952', '5104', '3486', '1743', '4088', '2910', '1363', '8609', '8238', '200', '3982', '83', '8088', '1334', '1624', '1040', '5393', '8468', '1088', '1447', '8580', '7794', '3699', '125', '229', '6078', '8629', '2289', '8108', '3235', '8770', '7517', '5163', '6415', '2911', '4898', '7367'])"
      ]
     },
     "execution_count": 36,
     "metadata": {},
     "output_type": "execute_result"
    }
   ],
   "source": [
    "poss_speakers.keys()"
   ]
  },
  {
   "cell_type": "code",
   "execution_count": 37,
   "metadata": {},
   "outputs": [],
   "source": [
    "to_move = list(poss_speakers.keys())\n",
    "random.shuffle(to_move)\n",
    "to_move = to_move[:max_speakers]"
   ]
  },
  {
   "cell_type": "code",
   "execution_count": 38,
   "metadata": {},
   "outputs": [],
   "source": [
    "for sp_id, v in poss_speakers.items():\n",
    "    if sp_id in to_move:\n",
    "        for j in v:\n",
    "            f_name = j.split(os.path.sep)[-1]\n",
    "            text_f_name = f_name.split(\".wav\")[0] + \".txt\"\n",
    "            os.makedirs(os.path.join(dataset_path, sp_id), exist_ok=True)\n",
    "            shutil.copy(j, os.path.join(dataset_path, sp_id, f_name))\n",
    "            shutil.copy(j.replace(\".wav\", \".normalized.txt\"), os.path.join(dataset_path, sp_id, text_f_name))"
   ]
  },
  {
   "cell_type": "code",
   "execution_count": 40,
   "metadata": {},
   "outputs": [
    {
     "data": {
      "text/plain": [
       "['1743',\n",
       " '2136',\n",
       " '2836',\n",
       " '2893',\n",
       " '3486',\n",
       " '3699',\n",
       " '3983',\n",
       " '460',\n",
       " '4788',\n",
       " '6272',\n",
       " '669',\n",
       " '6818',\n",
       " '6848',\n",
       " '7447',\n",
       " '7517',\n",
       " '8238',\n",
       " '8312',\n",
       " '8324',\n",
       " '8465',\n",
       " '911']"
      ]
     },
     "execution_count": 40,
     "metadata": {},
     "output_type": "execute_result"
    }
   ],
   "source": [
    "sorted(to_move)"
   ]
  },
  {
   "cell_type": "code",
   "execution_count": null,
   "metadata": {},
   "outputs": [],
   "source": []
  },
  {
   "cell_type": "code",
   "execution_count": 45,
   "metadata": {},
   "outputs": [
    {
     "name": "stdout",
     "output_type": "stream",
     "text": [
      "build\t\t    __init__.py  notebooks\t     setup.py\n",
      "docker-compose.yml  libritts\t preprocess\t     tensorflow_tts\n",
      "dockerfile\t    LibriTTS\t prev_dump_libritts  TensorFlowTTS.egg-info\n",
      "dump_libritts\t    LICENSE\t README.md\t     test\n",
      "examples\t    mfa\t\t setup.cfg\t     ttsexamples\n"
     ]
    }
   ],
   "source": [
    "!ls ../../../"
   ]
  },
  {
   "cell_type": "code",
   "execution_count": null,
   "metadata": {},
   "outputs": [],
   "source": []
  }
 ],
 "metadata": {
  "environment": {
   "name": "common-cu101.m78",
   "type": "gcloud",
   "uri": "gcr.io/deeplearning-platform-release/base-cu101:m78"
  },
  "interpreter": {
   "hash": "32b04b68daf6557b9f384f966e7a569abebaf11b1b9d9fed65dfac2e96de1d9f"
  },
  "kernelspec": {
   "display_name": "Python 3",
   "language": "python",
   "name": "python3"
  },
  "language_info": {
   "codemirror_mode": {
    "name": "ipython",
    "version": 3
   },
   "file_extension": ".py",
   "mimetype": "text/x-python",
   "name": "python",
   "nbconvert_exporter": "python",
   "pygments_lexer": "ipython3",
   "version": "3.7.10"
  }
 },
 "nbformat": 4,
 "nbformat_minor": 4
}
