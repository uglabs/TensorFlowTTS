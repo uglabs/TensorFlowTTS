{
 "cells": [
  {
   "cell_type": "code",
   "execution_count": 29,
   "source": [
    "!ls ../../../../data/dev-clean"
   ],
   "outputs": [
    {
     "output_type": "stream",
     "name": "stdout",
     "text": [
      "LibriTTS\n"
     ]
    }
   ],
   "metadata": {}
  },
  {
   "cell_type": "code",
   "execution_count": 16,
   "source": [
    "import os\n",
    "import random\n",
    "import shutil\n",
    "import sys\n",
    "\n",
    "libri_path = \"../../../LibriTTS\" # absolute path to TensorFlowTTS.\n",
    "dataset_path = \"../../../libritts\" # Change to your paths. This is a output of re-format dataset.\n",
    "subset = \"train-clean-100\""
   ],
   "outputs": [],
   "metadata": {}
  },
  {
   "cell_type": "code",
   "execution_count": 17,
   "source": [
    "with open(os.path.join(libri_path, \"SPEAKERS.txt\")) as f:\n",
    "    data = f.readlines()\n",
    "    \n",
    "dataset_info = {}\n",
    "max_speakers = 100  # Max number of speakers to train on\n",
    "min_len = 10  # Min len of speaker narration time\n",
    "max_file_len = 15  # max audio file lenght\n",
    "min_file_len = 2  # min audio file lenght"
   ],
   "outputs": [],
   "metadata": {}
  },
  {
   "cell_type": "code",
   "execution_count": 18,
   "source": [
    "possible_dataset = [i.split(\"|\") for i in data[12:] if i.split(\"|\")[2].strip() == subset and float(i.split(\"|\")[3].strip()) >= min_len]\n"
   ],
   "outputs": [],
   "metadata": {}
  },
  {
   "cell_type": "code",
   "execution_count": 19,
   "source": [
    "ids = [i[0].strip() for i in possible_dataset]\n"
   ],
   "outputs": [],
   "metadata": {}
  },
  {
   "cell_type": "code",
   "execution_count": 20,
   "source": [
    "import soundfile as sf"
   ],
   "outputs": [],
   "metadata": {}
  },
  {
   "cell_type": "code",
   "execution_count": 21,
   "source": [
    "possible_map = {}\n",
    "subset_path = os.path.join(libri_path, subset)\n",
    "for i in os.listdir(subset_path):\n",
    "    if i in ids:\n",
    "        id_path = os.path.join(subset_path, i)\n",
    "        id_dur = 0\n",
    "        id_included = []\n",
    "        \n",
    "        for k in os.listdir(id_path):\n",
    "            for j in os.listdir(os.path.join(id_path, k)):\n",
    "                if \".wav\" in j:\n",
    "                    f_path = os.path.join(id_path, k, j)\n",
    "                    sf_file =  sf.SoundFile(f_path)\n",
    "                    dur = len(sf_file) / sf_file.samplerate\n",
    "                    if max_file_len < dur or dur < min_file_len:\n",
    "                        continue\n",
    "                    else:\n",
    "                        id_included.append(f_path)\n",
    "                        id_dur += dur\n",
    "        possible_map[i] = {\"dur\": id_dur, \"included\": id_included}\n"
   ],
   "outputs": [],
   "metadata": {}
  },
  {
   "cell_type": "code",
   "execution_count": 22,
   "source": [
    "min_len"
   ],
   "outputs": [
    {
     "output_type": "execute_result",
     "data": {
      "text/plain": [
       "3"
      ]
     },
     "metadata": {},
     "execution_count": 22
    }
   ],
   "metadata": {}
  },
  {
   "cell_type": "code",
   "execution_count": 23,
   "source": [
    "poss_speakers = {k: v[\"included\"] for k, v in possible_map.items() if v[\"dur\"]/60 >= min_len}"
   ],
   "outputs": [],
   "metadata": {}
  },
  {
   "cell_type": "code",
   "execution_count": 24,
   "source": [
    "poss_speakers.keys()"
   ],
   "outputs": [
    {
     "output_type": "execute_result",
     "data": {
      "text/plain": [
       "dict_keys(['460', '1246', '8419', '1594', '7402', '1578', '2514', '5703', '250', '8975', '2836', '4481', '4406', '6880', '7780', '412', '7302', '2989', '7226', '5022', '6019', '7505', '3983', '3259', '4640', '8123', '6209', '8051', '3240', '1069', '3112', '1553', '831', '4340', '1898', '2436', '5390', '7113', '60', '1963', '7447', '8312', '3436', '6272', '5514', '6147', '226', '2817', '8095', '7800', '587', '5778', '40', '6818', '669', '5750', '5808', '6848', '4362', '7859', '4680', '8324', '2691', '4788', '1926', '4267', '7059', '201', '4397', '3526', '8226', '6836', '1235', '696', '911', '3607', '4051', '3168', '6367', '7278', '5339', '8747', '3830', '1867', '2518', '4160', '6529', '7178', '2092', '8063', '6437', '1183', '27', '1502', '3664', '5456', '8014', '2196', '7078', '3242', '2391', '4214', '7635', '1116', '405', '4297', '2893', '4195', '87', '254', '7511', '2416', '8797', '2002', '2136', '3857', '6081', '5789', '26', '730', '4018', '7264', '8630', '118', '196', '5867', '6385', '2182', '8098', '302', '6563', '7067', '1355', '6531', '1737', '839', '374', '8465', '233', '1263', '1098', '3440', '298', '8838', '4859', '7190', '5322', '2007', '5652', '909', '3374', '4813', '5561', '887', '1841', '2843', '4830', '3879', '6181', '78', '6476', '4137', '1970', '32', '6000', '446', '5678', '6064', '6454', '2952', '5104', '3486', '1743', '4088', '2910', '1363', '8609', '8238', '200', '3982', '83', '8088', '1334', '1624', '1040', '5393', '8468', '1088', '1447', '8580', '7794', '3699', '125', '229', '6078', '8629', '2289', '8108', '3235', '8770', '7517', '5163', '6415', '2911', '4898', '7367'])"
      ]
     },
     "metadata": {},
     "execution_count": 24
    }
   ],
   "metadata": {}
  },
  {
   "cell_type": "code",
   "execution_count": 25,
   "source": [
    "to_move = list(poss_speakers.keys())\n",
    "random.shuffle(to_move)\n",
    "to_move = to_move[:max_speakers]"
   ],
   "outputs": [],
   "metadata": {}
  },
  {
   "cell_type": "code",
   "execution_count": 26,
   "source": [
    "for sp_id, v in poss_speakers.items():\n",
    "    if sp_id in to_move:\n",
    "        for j in v:\n",
    "            f_name = j.split(os.path.sep)[-1]\n",
    "            text_f_name = f_name.split(\".wav\")[0] + \".txt\"\n",
    "            os.makedirs(os.path.join(dataset_path, sp_id), exist_ok=True)\n",
    "            shutil.copy(j, os.path.join(dataset_path, sp_id, f_name))\n",
    "            shutil.copy(j.replace(\".wav\", \".normalized.txt\"), os.path.join(dataset_path, sp_id, text_f_name))"
   ],
   "outputs": [],
   "metadata": {}
  },
  {
   "cell_type": "code",
   "execution_count": 27,
   "source": [
    "sorted(to_move)"
   ],
   "outputs": [
    {
     "output_type": "execute_result",
     "data": {
      "text/plain": [
       "['1246',\n",
       " '1355',\n",
       " '1594',\n",
       " '1743',\n",
       " '3168',\n",
       " '3526',\n",
       " '374',\n",
       " '3857',\n",
       " '3982',\n",
       " '4160',\n",
       " '446',\n",
       " '460',\n",
       " '4830',\n",
       " '5104',\n",
       " '5514',\n",
       " '5678',\n",
       " '6836',\n",
       " '7278',\n",
       " '7800',\n",
       " '909']"
      ]
     },
     "metadata": {},
     "execution_count": 27
    }
   ],
   "metadata": {}
  },
  {
   "cell_type": "code",
   "execution_count": null,
   "source": [],
   "outputs": [],
   "metadata": {}
  },
  {
   "cell_type": "code",
   "execution_count": 28,
   "source": [
    "!ls ../../../"
   ],
   "outputs": [
    {
     "output_type": "stream",
     "name": "stdout",
     "text": [
      "build\t\t    __init__.py   notebooks   setup.py\n",
      "docker-compose.yml  libritts\t  prediction  tensorflow_tts\n",
      "dockerfile\t    LibriTTS\t  preprocess  TensorFlowTTS.egg-info\n",
      "dump_libritts\t    LICENSE\t  pretrained  test\n",
      "dump_ljspeech\t    LJSpeech-1.1  README.md   ttsexamples\n",
      "dump_ljspeech24     mfa\t\t  setup.cfg\n"
     ]
    }
   ],
   "metadata": {}
  },
  {
   "cell_type": "code",
   "execution_count": null,
   "source": [],
   "outputs": [],
   "metadata": {}
  }
 ],
 "metadata": {
  "kernelspec": {
   "name": "python3",
   "display_name": "Python 3.7.9 64-bit ('ug': pyenv)"
  },
  "language_info": {
   "codemirror_mode": {
    "name": "ipython",
    "version": 3
   },
   "file_extension": ".py",
   "mimetype": "text/x-python",
   "name": "python",
   "nbconvert_exporter": "python",
   "pygments_lexer": "ipython3",
   "version": "3.7.9"
  },
  "interpreter": {
   "hash": "32b04b68daf6557b9f384f966e7a569abebaf11b1b9d9fed65dfac2e96de1d9f"
  }
 },
 "nbformat": 4,
 "nbformat_minor": 4
}